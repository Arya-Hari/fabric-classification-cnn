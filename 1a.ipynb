{
  "nbformat": 4,
  "nbformat_minor": 0,
  "metadata": {
    "colab": {
      "provenance": [],
      "authorship_tag": "ABX9TyPn3LjNa8xHJcOONQhV4/ro",
      "include_colab_link": true
    },
    "kernelspec": {
      "name": "python3",
      "display_name": "Python 3"
    },
    "language_info": {
      "name": "python"
    }
  },
  "cells": [
    {
      "cell_type": "markdown",
      "metadata": {
        "id": "view-in-github",
        "colab_type": "text"
      },
      "source": [
        "<a href=\"https://colab.research.google.com/github/Arya-Hari/fabric-classification-cnn/blob/main/1a.ipynb\" target=\"_parent\"><img src=\"https://colab.research.google.com/assets/colab-badge.svg\" alt=\"Open In Colab\"/></a>"
      ]
    },
    {
      "cell_type": "code",
      "execution_count": 1,
      "metadata": {
        "colab": {
          "base_uri": "https://localhost:8080/"
        },
        "id": "TqjYJ4pNC1Wo",
        "outputId": "1db76626-fcdd-48c0-87f2-d778c6d79a14"
      },
      "outputs": [
        {
          "output_type": "stream",
          "name": "stdout",
          "text": [
            "Mounted at /content/drive\n"
          ]
        }
      ],
      "source": [
        "from google.colab import drive\n",
        "drive.mount('/content/drive')"
      ]
    },
    {
      "cell_type": "code",
      "source": [
        "import my_utils"
      ],
      "metadata": {
        "id": "MxmO_18zDSFH"
      },
      "execution_count": 2,
      "outputs": []
    },
    {
      "cell_type": "code",
      "source": [
        "import numpy as np\n",
        "import os\n",
        "import PIL\n",
        "import PIL.Image\n",
        "import tensorflow as tf\n",
        "import re\n",
        "\n",
        "print(tf.__version__)\n",
        "\n",
        "import pathlib\n",
        "\n",
        "path = \"/content/drive/MyDrive/Fabrics_simple\"\n",
        "data_dir = pathlib.Path(path)"
      ],
      "metadata": {
        "colab": {
          "base_uri": "https://localhost:8080/"
        },
        "id": "YOQgpOp2DdX2",
        "outputId": "0a849f21-508d-4e66-b6dc-021722b91b01"
      },
      "execution_count": 3,
      "outputs": [
        {
          "output_type": "stream",
          "name": "stdout",
          "text": [
            "2.15.0\n"
          ]
        }
      ]
    },
    {
      "cell_type": "code",
      "source": [
        "batch_size = 32\n",
        "img_height = 400\n",
        "img_width = 400\n",
        "\n",
        "train_ds, val_ds, class_names = my_utils.generate_ds(data_dir, batch_size, img_height, img_width)\n",
        "\n",
        "print(class_names)"
      ],
      "metadata": {
        "colab": {
          "base_uri": "https://localhost:8080/"
        },
        "id": "TV7GjyxGDUpf",
        "outputId": "727b8a45-bc25-4bde-b8c9-7b5bb694aa94"
      },
      "execution_count": 4,
      "outputs": [
        {
          "output_type": "stream",
          "name": "stdout",
          "text": [
            "Found 1008 files belonging to 2 classes.\n",
            "Using 807 files for training.\n",
            "Found 1008 files belonging to 2 classes.\n",
            "Using 201 files for validation.\n",
            "['Denim', 'Wool']\n"
          ]
        }
      ]
    },
    {
      "cell_type": "code",
      "source": [
        "AUTOTUNE = tf.data.AUTOTUNE\n",
        "\n",
        "train_ds = train_ds.cache().prefetch(buffer_size=AUTOTUNE)\n",
        "val_ds = val_ds.cache().prefetch(buffer_size=AUTOTUNE)"
      ],
      "metadata": {
        "id": "GskkTDu6ELlX"
      },
      "execution_count": 5,
      "outputs": []
    },
    {
      "cell_type": "code",
      "source": [
        "#based of https://www.tensorflow.org/tutorials/load_data/images\n",
        "num_classes = 2\n",
        "\n",
        "model = tf.keras.Sequential([\n",
        "  tf.keras.layers.Rescaling(1./255),\n",
        "  tf.keras.layers.Conv2D(32, 3, input_shape=(32, 400, 400, 3), activation='relu'),\n",
        "  tf.keras.layers.MaxPooling2D(),\n",
        "  tf.keras.layers.Flatten(),\n",
        "  tf.keras.layers.Dense(128, activation='relu'),\n",
        "  tf.keras.layers.Dense(num_classes)\n",
        "])\n",
        "\n",
        "model.compile(\n",
        "  optimizer='adam',\n",
        "  loss=tf.losses.SparseCategoricalCrossentropy(from_logits=True),\n",
        "  metrics=['accuracy'])\n",
        "\n",
        "checkpoint = my_utils.generate_callback(\"/content/drive/MyDrive/fabric_classification/\", \"Model-1-NoAug-fs\")\n",
        "\n",
        "hist = model.fit(\n",
        "    train_ds,\n",
        "    validation_data = val_ds,\n",
        "    epochs = 50,\n",
        "    verbose = 1,\n",
        "    callbacks = [checkpoint])\n",
        "\n",
        "model.summary()\n"
      ],
      "metadata": {
        "colab": {
          "base_uri": "https://localhost:8080/"
        },
        "id": "CdwDU1TJEPFm",
        "outputId": "e3bc780e-07cd-4c51-aa07-b8b33818a1e7"
      },
      "execution_count": 6,
      "outputs": [
        {
          "metadata": {
            "tags": null
          },
          "name": "stdout",
          "output_type": "stream",
          "text": [
            "Epoch 1/50\n",
            "26/26 [==============================] - ETA: 0s - loss: 30.4780 - accuracy: 0.5130\n",
            "Epoch 1: val_accuracy improved from -inf to 0.56219, saving model to /content/drive/MyDrive/fabric_classification/Model-1-NoAug-fs.h5\n"
          ]
        },
        {
          "metadata": {
            "tags": null
          },
          "name": "stderr",
          "output_type": "stream",
          "text": [
            "/usr/local/lib/python3.10/dist-packages/keras/src/engine/training.py:3103: UserWarning: You are saving your model as an HDF5 file via `model.save()`. This file format is considered legacy. We recommend using instead the native Keras format, e.g. `model.save('my_model.keras')`.\n",
            "  saving_api.save_model(\n"
          ]
        },
        {
          "output_type": "stream",
          "name": "stdout",
          "text": [
            "26/26 [==============================] - 342s 9s/step - loss: 30.4780 - accuracy: 0.5130 - val_loss: 0.6668 - val_accuracy: 0.5622\n",
            "Epoch 2/50\n",
            "26/26 [==============================] - ETA: 0s - loss: 0.8274 - accuracy: 0.6109\n",
            "Epoch 2: val_accuracy improved from 0.56219 to 0.71642, saving model to /content/drive/MyDrive/fabric_classification/Model-1-NoAug-fs.h5\n",
            "26/26 [==============================] - 196s 8s/step - loss: 0.8274 - accuracy: 0.6109 - val_loss: 0.6029 - val_accuracy: 0.7164\n",
            "Epoch 3/50\n",
            "26/26 [==============================] - ETA: 0s - loss: 0.5201 - accuracy: 0.7695\n",
            "Epoch 3: val_accuracy improved from 0.71642 to 0.85075, saving model to /content/drive/MyDrive/fabric_classification/Model-1-NoAug-fs.h5\n",
            "26/26 [==============================] - 203s 8s/step - loss: 0.5201 - accuracy: 0.7695 - val_loss: 0.4352 - val_accuracy: 0.8507\n",
            "Epoch 4/50\n",
            "26/26 [==============================] - ETA: 0s - loss: 0.2870 - accuracy: 0.8872\n",
            "Epoch 4: val_accuracy improved from 0.85075 to 0.92537, saving model to /content/drive/MyDrive/fabric_classification/Model-1-NoAug-fs.h5\n",
            "26/26 [==============================] - 202s 8s/step - loss: 0.2870 - accuracy: 0.8872 - val_loss: 0.3091 - val_accuracy: 0.9254\n",
            "Epoch 5/50\n",
            "26/26 [==============================] - ETA: 0s - loss: 0.1502 - accuracy: 0.9653\n",
            "Epoch 5: val_accuracy did not improve from 0.92537\n",
            "26/26 [==============================] - 169s 7s/step - loss: 0.1502 - accuracy: 0.9653 - val_loss: 0.3520 - val_accuracy: 0.8358\n",
            "Epoch 6/50\n",
            "26/26 [==============================] - ETA: 0s - loss: 0.0619 - accuracy: 0.9913\n",
            "Epoch 6: val_accuracy did not improve from 0.92537\n",
            "26/26 [==============================] - 174s 7s/step - loss: 0.0619 - accuracy: 0.9913 - val_loss: 0.3483 - val_accuracy: 0.8259\n",
            "Epoch 7/50\n",
            "26/26 [==============================] - ETA: 0s - loss: 0.0411 - accuracy: 0.9950\n",
            "Epoch 7: val_accuracy did not improve from 0.92537\n",
            "26/26 [==============================] - 183s 7s/step - loss: 0.0411 - accuracy: 0.9950 - val_loss: 0.2635 - val_accuracy: 0.9005\n",
            "Epoch 8/50\n",
            "26/26 [==============================] - ETA: 0s - loss: 0.0190 - accuracy: 0.9988\n",
            "Epoch 8: val_accuracy did not improve from 0.92537\n",
            "26/26 [==============================] - 170s 7s/step - loss: 0.0190 - accuracy: 0.9988 - val_loss: 0.2463 - val_accuracy: 0.9104\n",
            "Epoch 9/50\n",
            "26/26 [==============================] - ETA: 0s - loss: 0.0261 - accuracy: 1.0000\n",
            "Epoch 9: val_accuracy did not improve from 0.92537\n",
            "26/26 [==============================] - 168s 6s/step - loss: 0.0261 - accuracy: 1.0000 - val_loss: 0.3300 - val_accuracy: 0.8607\n",
            "Epoch 10/50\n",
            "26/26 [==============================] - ETA: 0s - loss: 0.0171 - accuracy: 1.0000\n",
            "Epoch 10: val_accuracy did not improve from 0.92537\n",
            "26/26 [==============================] - 171s 7s/step - loss: 0.0171 - accuracy: 1.0000 - val_loss: 0.2412 - val_accuracy: 0.9254\n",
            "Epoch 11/50\n",
            "26/26 [==============================] - ETA: 0s - loss: 0.0039 - accuracy: 1.0000\n",
            "Epoch 11: val_accuracy improved from 0.92537 to 0.96020, saving model to /content/drive/MyDrive/fabric_classification/Model-1-NoAug-fs.h5\n",
            "26/26 [==============================] - 187s 7s/step - loss: 0.0039 - accuracy: 1.0000 - val_loss: 0.1157 - val_accuracy: 0.9602\n",
            "Epoch 12/50\n",
            "26/26 [==============================] - ETA: 0s - loss: 0.0019 - accuracy: 1.0000\n",
            "Epoch 12: val_accuracy did not improve from 0.96020\n",
            "26/26 [==============================] - 174s 7s/step - loss: 0.0019 - accuracy: 1.0000 - val_loss: 0.1003 - val_accuracy: 0.9602\n",
            "Epoch 13/50\n",
            "26/26 [==============================] - ETA: 0s - loss: 0.0015 - accuracy: 1.0000\n",
            "Epoch 13: val_accuracy did not improve from 0.96020\n",
            "26/26 [==============================] - 167s 6s/step - loss: 0.0015 - accuracy: 1.0000 - val_loss: 0.0937 - val_accuracy: 0.9602\n",
            "Epoch 14/50\n",
            "26/26 [==============================] - ETA: 0s - loss: 0.0012 - accuracy: 1.0000\n",
            "Epoch 14: val_accuracy did not improve from 0.96020\n",
            "26/26 [==============================] - 176s 7s/step - loss: 0.0012 - accuracy: 1.0000 - val_loss: 0.0955 - val_accuracy: 0.9602\n",
            "Epoch 15/50\n",
            "26/26 [==============================] - ETA: 0s - loss: 9.5633e-04 - accuracy: 1.0000\n",
            "Epoch 15: val_accuracy did not improve from 0.96020\n",
            "26/26 [==============================] - 167s 6s/step - loss: 9.5633e-04 - accuracy: 1.0000 - val_loss: 0.1107 - val_accuracy: 0.9602\n",
            "Epoch 16/50\n",
            "26/26 [==============================] - ETA: 0s - loss: 7.6404e-04 - accuracy: 1.0000\n",
            "Epoch 16: val_accuracy did not improve from 0.96020\n",
            "26/26 [==============================] - 169s 6s/step - loss: 7.6404e-04 - accuracy: 1.0000 - val_loss: 0.1329 - val_accuracy: 0.9552\n",
            "Epoch 17/50\n",
            "26/26 [==============================] - ETA: 0s - loss: 5.7092e-04 - accuracy: 1.0000\n",
            "Epoch 17: val_accuracy did not improve from 0.96020\n",
            "26/26 [==============================] - 175s 7s/step - loss: 5.7092e-04 - accuracy: 1.0000 - val_loss: 0.1557 - val_accuracy: 0.9552\n",
            "Epoch 18/50\n",
            "26/26 [==============================] - ETA: 0s - loss: 4.1008e-04 - accuracy: 1.0000\n",
            "Epoch 18: val_accuracy did not improve from 0.96020\n",
            "26/26 [==============================] - 166s 6s/step - loss: 4.1008e-04 - accuracy: 1.0000 - val_loss: 0.1651 - val_accuracy: 0.9552\n",
            "Epoch 19/50\n",
            "26/26 [==============================] - ETA: 0s - loss: 3.1993e-04 - accuracy: 1.0000\n",
            "Epoch 19: val_accuracy did not improve from 0.96020\n",
            "26/26 [==============================] - 165s 6s/step - loss: 3.1993e-04 - accuracy: 1.0000 - val_loss: 0.1620 - val_accuracy: 0.9552\n",
            "Epoch 20/50\n",
            "26/26 [==============================] - ETA: 0s - loss: 2.7331e-04 - accuracy: 1.0000\n",
            "Epoch 20: val_accuracy did not improve from 0.96020\n",
            "26/26 [==============================] - 172s 7s/step - loss: 2.7331e-04 - accuracy: 1.0000 - val_loss: 0.1612 - val_accuracy: 0.9552\n",
            "Epoch 21/50\n",
            "26/26 [==============================] - ETA: 0s - loss: 2.4152e-04 - accuracy: 1.0000\n",
            "Epoch 21: val_accuracy did not improve from 0.96020\n",
            "26/26 [==============================] - 167s 6s/step - loss: 2.4152e-04 - accuracy: 1.0000 - val_loss: 0.1630 - val_accuracy: 0.9552\n",
            "Epoch 22/50\n",
            "26/26 [==============================] - ETA: 0s - loss: 2.1503e-04 - accuracy: 1.0000\n",
            "Epoch 22: val_accuracy did not improve from 0.96020\n",
            "26/26 [==============================] - 166s 6s/step - loss: 2.1503e-04 - accuracy: 1.0000 - val_loss: 0.1642 - val_accuracy: 0.9552\n",
            "Epoch 23/50\n",
            "26/26 [==============================] - ETA: 0s - loss: 1.9226e-04 - accuracy: 1.0000\n",
            "Epoch 23: val_accuracy did not improve from 0.96020\n",
            "26/26 [==============================] - 162s 6s/step - loss: 1.9226e-04 - accuracy: 1.0000 - val_loss: 0.1651 - val_accuracy: 0.9552\n",
            "Epoch 24/50\n",
            "26/26 [==============================] - ETA: 0s - loss: 1.7333e-04 - accuracy: 1.0000\n",
            "Epoch 24: val_accuracy did not improve from 0.96020\n",
            "26/26 [==============================] - 173s 7s/step - loss: 1.7333e-04 - accuracy: 1.0000 - val_loss: 0.1660 - val_accuracy: 0.9552\n",
            "Epoch 25/50\n",
            "26/26 [==============================] - ETA: 0s - loss: 1.5677e-04 - accuracy: 1.0000\n",
            "Epoch 25: val_accuracy did not improve from 0.96020\n",
            "26/26 [==============================] - 164s 6s/step - loss: 1.5677e-04 - accuracy: 1.0000 - val_loss: 0.1667 - val_accuracy: 0.9552\n",
            "Epoch 26/50\n",
            "26/26 [==============================] - ETA: 0s - loss: 1.4267e-04 - accuracy: 1.0000\n",
            "Epoch 26: val_accuracy did not improve from 0.96020\n",
            "26/26 [==============================] - 166s 6s/step - loss: 1.4267e-04 - accuracy: 1.0000 - val_loss: 0.1676 - val_accuracy: 0.9552\n",
            "Epoch 27/50\n",
            "26/26 [==============================] - ETA: 0s - loss: 1.3029e-04 - accuracy: 1.0000\n",
            "Epoch 27: val_accuracy did not improve from 0.96020\n",
            "26/26 [==============================] - 174s 7s/step - loss: 1.3029e-04 - accuracy: 1.0000 - val_loss: 0.1686 - val_accuracy: 0.9552\n",
            "Epoch 28/50\n",
            "26/26 [==============================] - ETA: 0s - loss: 1.1949e-04 - accuracy: 1.0000\n",
            "Epoch 28: val_accuracy did not improve from 0.96020\n",
            "26/26 [==============================] - 165s 6s/step - loss: 1.1949e-04 - accuracy: 1.0000 - val_loss: 0.1700 - val_accuracy: 0.9552\n",
            "Epoch 29/50\n",
            "26/26 [==============================] - ETA: 0s - loss: 1.0995e-04 - accuracy: 1.0000\n",
            "Epoch 29: val_accuracy did not improve from 0.96020\n",
            "26/26 [==============================] - 164s 6s/step - loss: 1.0995e-04 - accuracy: 1.0000 - val_loss: 0.1706 - val_accuracy: 0.9552\n",
            "Epoch 30/50\n",
            "26/26 [==============================] - ETA: 0s - loss: 1.0131e-04 - accuracy: 1.0000\n",
            "Epoch 30: val_accuracy did not improve from 0.96020\n",
            "26/26 [==============================] - 172s 7s/step - loss: 1.0131e-04 - accuracy: 1.0000 - val_loss: 0.1702 - val_accuracy: 0.9552\n",
            "Epoch 31/50\n",
            "26/26 [==============================] - ETA: 0s - loss: 9.3935e-05 - accuracy: 1.0000\n",
            "Epoch 31: val_accuracy did not improve from 0.96020\n",
            "26/26 [==============================] - 163s 6s/step - loss: 9.3935e-05 - accuracy: 1.0000 - val_loss: 0.1710 - val_accuracy: 0.9552\n",
            "Epoch 32/50\n",
            "26/26 [==============================] - ETA: 0s - loss: 8.7237e-05 - accuracy: 1.0000\n",
            "Epoch 32: val_accuracy did not improve from 0.96020\n",
            "26/26 [==============================] - 174s 7s/step - loss: 8.7237e-05 - accuracy: 1.0000 - val_loss: 0.1721 - val_accuracy: 0.9552\n",
            "Epoch 33/50\n",
            "26/26 [==============================] - ETA: 0s - loss: 8.0688e-05 - accuracy: 1.0000\n",
            "Epoch 33: val_accuracy did not improve from 0.96020\n",
            "26/26 [==============================] - 173s 7s/step - loss: 8.0688e-05 - accuracy: 1.0000 - val_loss: 0.1708 - val_accuracy: 0.9552\n",
            "Epoch 34/50\n",
            "26/26 [==============================] - ETA: 0s - loss: 7.5316e-05 - accuracy: 1.0000\n",
            "Epoch 34: val_accuracy did not improve from 0.96020\n",
            "26/26 [==============================] - 165s 6s/step - loss: 7.5316e-05 - accuracy: 1.0000 - val_loss: 0.1725 - val_accuracy: 0.9552\n",
            "Epoch 35/50\n",
            "26/26 [==============================] - ETA: 0s - loss: 6.9932e-05 - accuracy: 1.0000\n",
            "Epoch 35: val_accuracy did not improve from 0.96020\n",
            "26/26 [==============================] - 163s 6s/step - loss: 6.9932e-05 - accuracy: 1.0000 - val_loss: 0.1737 - val_accuracy: 0.9552\n",
            "Epoch 36/50\n",
            "26/26 [==============================] - ETA: 0s - loss: 6.5046e-05 - accuracy: 1.0000\n",
            "Epoch 36: val_accuracy did not improve from 0.96020\n",
            "26/26 [==============================] - 163s 6s/step - loss: 6.5046e-05 - accuracy: 1.0000 - val_loss: 0.1749 - val_accuracy: 0.9552\n",
            "Epoch 37/50\n",
            "26/26 [==============================] - ETA: 0s - loss: 6.0463e-05 - accuracy: 1.0000\n",
            "Epoch 37: val_accuracy did not improve from 0.96020\n",
            "26/26 [==============================] - 181s 7s/step - loss: 6.0463e-05 - accuracy: 1.0000 - val_loss: 0.1756 - val_accuracy: 0.9552\n",
            "Epoch 38/50\n",
            "26/26 [==============================] - ETA: 0s - loss: 5.6292e-05 - accuracy: 1.0000\n",
            "Epoch 38: val_accuracy did not improve from 0.96020\n",
            "26/26 [==============================] - 172s 7s/step - loss: 5.6292e-05 - accuracy: 1.0000 - val_loss: 0.1752 - val_accuracy: 0.9552\n",
            "Epoch 39/50\n",
            "26/26 [==============================] - ETA: 0s - loss: 5.2987e-05 - accuracy: 1.0000\n",
            "Epoch 39: val_accuracy did not improve from 0.96020\n",
            "26/26 [==============================] - 175s 7s/step - loss: 5.2987e-05 - accuracy: 1.0000 - val_loss: 0.1770 - val_accuracy: 0.9552\n",
            "Epoch 40/50\n",
            "26/26 [==============================] - ETA: 0s - loss: 4.9678e-05 - accuracy: 1.0000\n",
            "Epoch 40: val_accuracy did not improve from 0.96020\n",
            "26/26 [==============================] - 184s 7s/step - loss: 4.9678e-05 - accuracy: 1.0000 - val_loss: 0.1785 - val_accuracy: 0.9552\n",
            "Epoch 41/50\n",
            "26/26 [==============================] - ETA: 0s - loss: 4.6605e-05 - accuracy: 1.0000\n",
            "Epoch 41: val_accuracy did not improve from 0.96020\n",
            "26/26 [==============================] - 166s 6s/step - loss: 4.6605e-05 - accuracy: 1.0000 - val_loss: 0.1789 - val_accuracy: 0.9552\n",
            "Epoch 42/50\n",
            "26/26 [==============================] - ETA: 0s - loss: 4.3902e-05 - accuracy: 1.0000\n",
            "Epoch 42: val_accuracy did not improve from 0.96020\n",
            "26/26 [==============================] - 167s 6s/step - loss: 4.3902e-05 - accuracy: 1.0000 - val_loss: 0.1796 - val_accuracy: 0.9552\n",
            "Epoch 43/50\n",
            "26/26 [==============================] - ETA: 0s - loss: 4.1428e-05 - accuracy: 1.0000\n",
            "Epoch 43: val_accuracy did not improve from 0.96020\n",
            "26/26 [==============================] - 167s 6s/step - loss: 4.1428e-05 - accuracy: 1.0000 - val_loss: 0.1802 - val_accuracy: 0.9552\n",
            "Epoch 44/50\n",
            "26/26 [==============================] - ETA: 0s - loss: 3.9199e-05 - accuracy: 1.0000\n",
            "Epoch 44: val_accuracy did not improve from 0.96020\n",
            "26/26 [==============================] - 183s 7s/step - loss: 3.9199e-05 - accuracy: 1.0000 - val_loss: 0.1813 - val_accuracy: 0.9552\n",
            "Epoch 45/50\n",
            "26/26 [==============================] - ETA: 0s - loss: 3.7055e-05 - accuracy: 1.0000\n",
            "Epoch 45: val_accuracy did not improve from 0.96020\n",
            "26/26 [==============================] - 166s 6s/step - loss: 3.7055e-05 - accuracy: 1.0000 - val_loss: 0.1819 - val_accuracy: 0.9552\n",
            "Epoch 46/50\n",
            "26/26 [==============================] - ETA: 0s - loss: 3.5119e-05 - accuracy: 1.0000\n",
            "Epoch 46: val_accuracy did not improve from 0.96020\n",
            "26/26 [==============================] - 163s 6s/step - loss: 3.5119e-05 - accuracy: 1.0000 - val_loss: 0.1822 - val_accuracy: 0.9552\n",
            "Epoch 47/50\n",
            "26/26 [==============================] - ETA: 0s - loss: 3.3364e-05 - accuracy: 1.0000\n",
            "Epoch 47: val_accuracy did not improve from 0.96020\n",
            "26/26 [==============================] - 175s 7s/step - loss: 3.3364e-05 - accuracy: 1.0000 - val_loss: 0.1828 - val_accuracy: 0.9552\n",
            "Epoch 48/50\n",
            "26/26 [==============================] - ETA: 0s - loss: 3.1743e-05 - accuracy: 1.0000\n",
            "Epoch 48: val_accuracy did not improve from 0.96020\n",
            "26/26 [==============================] - 164s 6s/step - loss: 3.1743e-05 - accuracy: 1.0000 - val_loss: 0.1834 - val_accuracy: 0.9552\n",
            "Epoch 49/50\n",
            "26/26 [==============================] - ETA: 0s - loss: 3.0210e-05 - accuracy: 1.0000\n",
            "Epoch 49: val_accuracy did not improve from 0.96020\n",
            "26/26 [==============================] - 165s 6s/step - loss: 3.0210e-05 - accuracy: 1.0000 - val_loss: 0.1840 - val_accuracy: 0.9552\n",
            "Epoch 50/50\n",
            "26/26 [==============================] - ETA: 0s - loss: 2.8784e-05 - accuracy: 1.0000\n",
            "Epoch 50: val_accuracy did not improve from 0.96020\n",
            "26/26 [==============================] - 176s 7s/step - loss: 2.8784e-05 - accuracy: 1.0000 - val_loss: 0.1836 - val_accuracy: 0.9552\n",
            "Model: \"sequential\"\n",
            "_________________________________________________________________\n",
            " Layer (type)                Output Shape              Param #   \n",
            "=================================================================\n",
            " rescaling (Rescaling)       (None, 400, 400, 3)       0         \n",
            "                                                                 \n",
            " conv2d (Conv2D)             (None, 398, 398, 32)      896       \n",
            "                                                                 \n",
            " max_pooling2d (MaxPooling2  (None, 199, 199, 32)      0         \n",
            " D)                                                              \n",
            "                                                                 \n",
            " flatten (Flatten)           (None, 1267232)           0         \n",
            "                                                                 \n",
            " dense (Dense)               (None, 128)               162205824 \n",
            "                                                                 \n",
            " dense_1 (Dense)             (None, 2)                 258       \n",
            "                                                                 \n",
            "=================================================================\n",
            "Total params: 162206978 (618.77 MB)\n",
            "Trainable params: 162206978 (618.77 MB)\n",
            "Non-trainable params: 0 (0.00 Byte)\n",
            "_________________________________________________________________\n"
          ]
        }
      ]
    },
    {
      "cell_type": "code",
      "source": [
        "my_utils.generate_plot(hist)"
      ],
      "metadata": {
        "colab": {
          "base_uri": "https://localhost:8080/",
          "height": 954
        },
        "id": "0aBNCKUqXwCM",
        "outputId": "5d306c92-cc60-4c63-edcc-5b647ef388aa"
      },
      "execution_count": 7,
      "outputs": [
        {
          "output_type": "display_data",
          "data": {
            "text/plain": [
              "<Figure size 640x480 with 1 Axes>"
            ],
            "image/png": "[encoded data removed]"
          },
          "metadata": {}
        },
        {
          "output_type": "display_data",
          "data": {
            "text/plain": [
              "<Figure size 640x480 with 1 Axes>"
            ],
            "image/png": "[encoded data removed]"
          },
          "metadata": {}
        },
        {
          "output_type": "execute_result",
          "data": {
            "text/plain": [
              "0"
            ]
          },
          "metadata": {},
          "execution_count": 7
        }
      ]
    },
    {
      "cell_type": "code",
      "source": [
        "sunflower_path = \"/content/drive/MyDrive/im_2.png\"\n",
        "\n",
        "img = tf.keras.utils.load_img(\n",
        "    sunflower_path, target_size=(img_height, img_width)\n",
        ")\n",
        "img_array = tf.keras.utils.img_to_array(img)\n",
        "img_array = tf.expand_dims(img_array, 0) # Create a batch\n",
        "\n",
        "predictions = model.predict(img_array)\n",
        "score = tf.nn.softmax(predictions[0])\n",
        "\n",
        "print(\n",
        "    \"This image most likely belongs to {} with a {:.2f} percent confidence.\"\n",
        "    .format(class_names[np.argmax(score)], 100 * np.max(score))\n",
        ")"
      ],
      "metadata": {
        "colab": {
          "base_uri": "https://localhost:8080/"
        },
        "id": "JiFq5p1kYBlB",
        "outputId": "50b6e050-ebad-49f9-f4ce-8ef251500921"
      },
      "execution_count": 9,
      "outputs": [
        {
          "output_type": "stream",
          "name": "stdout",
          "text": [
            "1/1 [==============================] - 1s 669ms/step\n",
            "This image most likely belongs to Denim with a 100.00 percent confidence.\n"
          ]
        }
      ]
    },
    {
      "cell_type": "code",
      "source": [
        "sunflower_path = \"/content/drive/MyDrive/im_3.png\"\n",
        "\n",
        "img = tf.keras.utils.load_img(\n",
        "    sunflower_path, target_size=(img_height, img_width)\n",
        ")\n",
        "img_array = tf.keras.utils.img_to_array(img)\n",
        "img_array = tf.expand_dims(img_array, 0) # Create a batch\n",
        "\n",
        "predictions = model.predict(img_array)\n",
        "score = tf.nn.softmax(predictions[0])\n",
        "\n",
        "print(\n",
        "    \"This image most likely belongs to {} with a {:.2f} percent confidence.\"\n",
        "    .format(class_names[np.argmax(score)], 100 * np.max(score))\n",
        ")"
      ],
      "metadata": {
        "colab": {
          "base_uri": "https://localhost:8080/"
        },
        "id": "1Wd9zUVKYN4i",
        "outputId": "eeb3f62e-27c7-4a41-bf25-95e16cdffe12"
      },
      "execution_count": 11,
      "outputs": [
        {
          "output_type": "stream",
          "name": "stdout",
          "text": [
            "1/1 [==============================] - 0s 144ms/step\n",
            "This image most likely belongs to Denim with a 100.00 percent confidence.\n"
          ]
        }
      ]
    }
  ]
}