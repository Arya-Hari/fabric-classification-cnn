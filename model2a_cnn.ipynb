{
  "cells": [
    {
      "cell_type": "markdown",
      "metadata": {
        "id": "view-in-github",
        "colab_type": "text"
      },
      "source": [
        "<a href=\"https://colab.research.google.com/github/Arya-Hari/fabric-classification-cnn/blob/main/model2a.ipynb\" target=\"_parent\"><img src=\"https://colab.research.google.com/assets/colab-badge.svg\" alt=\"Open In Colab\"/></a>"
      ]
    },
    {
      "cell_type": "code",
      "execution_count": null,
      "metadata": {
        "colab": {
          "base_uri": "https://localhost:8080/"
        },
        "id": "VOdnI4SLs5vx",
        "outputId": "43a265b4-ad67-4d66-ca7e-b92336784b7b"
      },
      "outputs": [
        {
          "name": "stdout",
          "output_type": "stream",
          "text": [
            "Mounted at /content/drive\n"
          ]
        }
      ],
      "source": [
        "from google.colab import drive\n",
        "drive.mount('/content/drive')"
      ]
    },
    {
      "cell_type": "code",
      "execution_count": null,
      "metadata": {
        "id": "_XR5x9ectIJ2"
      },
      "outputs": [],
      "source": [
        "!cp drive/MyDrive/my_utils.py .\n",
        "import my_utils"
      ]
    },
    {
      "cell_type": "code",
      "execution_count": null,
      "metadata": {
        "id": "jX6fwYnXheLL"
      },
      "outputs": [],
      "source": [
        "#based of https://www.tensorflow.org/tutorials/load_data/images\n",
        "import numpy as np\n",
        "import os\n",
        "import PIL\n",
        "import PIL.Image\n",
        "import tensorflow as tf\n",
        "import re\n",
        "\n",
        "import pathlib\n",
        "\n",
        "path = \"/content/drive/MyDrive/Fabrics_simple\"\n",
        "data_dir = pathlib.Path(path)"
      ]
    },
    {
      "cell_type": "code",
      "execution_count": null,
      "metadata": {
        "colab": {
          "base_uri": "https://localhost:8080/"
        },
        "id": "dq8o0Iz0hgRg",
        "outputId": "f62b3fcb-d54f-43e8-8023-4c3c878c8ac8"
      },
      "outputs": [
        {
          "name": "stdout",
          "output_type": "stream",
          "text": [
            "Found 1008 files belonging to 2 classes.\n",
            "Using 807 files for training.\n",
            "Found 1008 files belonging to 2 classes.\n",
            "Using 201 files for validation.\n",
            "['Denim', 'Wool']\n"
          ]
        }
      ],
      "source": [
        "batch_size = 32\n",
        "img_height = 400\n",
        "img_width = 400\n",
        "\n",
        "train_ds, val_ds, class_names = my_utils.generate_ds(data_dir, batch_size, img_height, img_width)\n",
        "\n",
        "print(class_names)"
      ]
    },
    {
      "cell_type": "code",
      "execution_count": null,
      "metadata": {
        "id": "L4wTULezpRz2"
      },
      "outputs": [],
      "source": [
        "AUTOTUNE = tf.data.AUTOTUNE\n",
        "\n",
        "train_ds = train_ds.cache().prefetch(buffer_size=AUTOTUNE)\n",
        "val_ds = val_ds.cache().prefetch(buffer_size=AUTOTUNE)"
      ]
    },
    {
      "cell_type": "code",
      "execution_count": null,
      "metadata": {
        "colab": {
          "background_save": true,
          "base_uri": "https://localhost:8080/"
        },
        "id": "IihiT-yHppfW",
        "outputId": "4b7f9737-556a-4c85-8e19-30aeed1afc1f"
      },
      "outputs": [
        {
          "name": "stdout",
          "output_type": "stream",
          "text": [
            "Epoch 1/50\n",
            "26/26 [==============================] - ETA: 0s - loss: 1.1633 - accuracy: 0.6320\n",
            "Epoch 1: val_accuracy improved from -inf to 0.73134, saving model to /content/drive/MyDrive/fabric_classification/Model-2a-NoAug-fs.h5\n"
          ]
        },
        {
          "name": "stderr",
          "output_type": "stream",
          "text": [
            "/usr/local/lib/python3.10/dist-packages/keras/src/engine/training.py:3103: UserWarning: You are saving your model as an HDF5 file via `model.save()`. This file format is considered legacy. We recommend using instead the native Keras format, e.g. `model.save('my_model.keras')`.\n",
            "  saving_api.save_model(\n"
          ]
        },
        {
          "name": "stdout",
          "output_type": "stream",
          "text": [
            "26/26 [==============================] - 340s 10s/step - loss: 1.1633 - accuracy: 0.6320 - val_loss: 0.5304 - val_accuracy: 0.7313\n",
            "Epoch 2/50\n",
            "26/26 [==============================] - ETA: 0s - loss: 0.5706 - accuracy: 0.7299\n",
            "Epoch 2: val_accuracy improved from 0.73134 to 0.79602, saving model to /content/drive/MyDrive/fabric_classification/Model-2a-NoAug-fs.h5\n",
            "26/26 [==============================] - 193s 7s/step - loss: 0.5706 - accuracy: 0.7299 - val_loss: 0.4600 - val_accuracy: 0.7960\n",
            "Epoch 3/50\n",
            "26/26 [==============================] - ETA: 0s - loss: 0.4905 - accuracy: 0.7695\n",
            "Epoch 3: val_accuracy improved from 0.79602 to 0.87065, saving model to /content/drive/MyDrive/fabric_classification/Model-2a-NoAug-fs.h5\n",
            "26/26 [==============================] - 193s 7s/step - loss: 0.4905 - accuracy: 0.7695 - val_loss: 0.4268 - val_accuracy: 0.8706\n",
            "Epoch 4/50\n",
            "26/26 [==============================] - ETA: 0s - loss: 0.3125 - accuracy: 0.8786\n",
            "Epoch 4: val_accuracy improved from 0.87065 to 0.89552, saving model to /content/drive/MyDrive/fabric_classification/Model-2a-NoAug-fs.h5\n",
            "26/26 [==============================] - 189s 7s/step - loss: 0.3125 - accuracy: 0.8786 - val_loss: 0.2482 - val_accuracy: 0.8955\n",
            "Epoch 5/50\n",
            "26/26 [==============================] - ETA: 0s - loss: 0.1776 - accuracy: 0.9343\n",
            "Epoch 5: val_accuracy did not improve from 0.89552\n",
            "26/26 [==============================] - 181s 7s/step - loss: 0.1776 - accuracy: 0.9343 - val_loss: 0.2864 - val_accuracy: 0.8607\n",
            "Epoch 6/50\n",
            "26/26 [==============================] - ETA: 0s - loss: 0.1311 - accuracy: 0.9566\n",
            "Epoch 6: val_accuracy did not improve from 0.89552\n",
            "26/26 [==============================] - 183s 7s/step - loss: 0.1311 - accuracy: 0.9566 - val_loss: 0.3330 - val_accuracy: 0.8507\n",
            "Epoch 7/50\n",
            "26/26 [==============================] - ETA: 0s - loss: 0.0922 - accuracy: 0.9765\n",
            "Epoch 7: val_accuracy did not improve from 0.89552\n",
            "26/26 [==============================] - 178s 7s/step - loss: 0.0922 - accuracy: 0.9765 - val_loss: 0.2885 - val_accuracy: 0.8706\n",
            "Epoch 8/50\n",
            "26/26 [==============================] - ETA: 0s - loss: 0.0531 - accuracy: 0.9876\n",
            "Epoch 8: val_accuracy did not improve from 0.89552\n",
            "26/26 [==============================] - 187s 7s/step - loss: 0.0531 - accuracy: 0.9876 - val_loss: 0.8833 - val_accuracy: 0.6667\n",
            "Epoch 9/50\n",
            "26/26 [==============================] - ETA: 0s - loss: 0.0970 - accuracy: 0.9641\n",
            "Epoch 9: val_accuracy did not improve from 0.89552\n",
            "26/26 [==============================] - 178s 7s/step - loss: 0.0970 - accuracy: 0.9641 - val_loss: 0.4635 - val_accuracy: 0.8109\n",
            "Epoch 10/50\n",
            "26/26 [==============================] - ETA: 0s - loss: 0.0830 - accuracy: 0.9740\n",
            "Epoch 10: val_accuracy did not improve from 0.89552\n",
            "26/26 [==============================] - 179s 7s/step - loss: 0.0830 - accuracy: 0.9740 - val_loss: 0.4619 - val_accuracy: 0.8159\n",
            "Epoch 11/50\n",
            "26/26 [==============================] - ETA: 0s - loss: 0.0897 - accuracy: 0.9690\n",
            "Epoch 11: val_accuracy did not improve from 0.89552\n",
            "26/26 [==============================] - 187s 7s/step - loss: 0.0897 - accuracy: 0.9690 - val_loss: 0.7959 - val_accuracy: 0.7214\n",
            "Epoch 12/50\n",
            "26/26 [==============================] - ETA: 0s - loss: 0.0667 - accuracy: 0.9814\n",
            "Epoch 12: val_accuracy did not improve from 0.89552\n",
            "26/26 [==============================] - 180s 7s/step - loss: 0.0667 - accuracy: 0.9814 - val_loss: 0.2526 - val_accuracy: 0.8905\n",
            "Epoch 13/50\n",
            "26/26 [==============================] - ETA: 0s - loss: 0.0282 - accuracy: 0.9913\n",
            "Epoch 13: val_accuracy improved from 0.89552 to 0.94030, saving model to /content/drive/MyDrive/fabric_classification/Model-2a-NoAug-fs.h5\n",
            "26/26 [==============================] - 184s 7s/step - loss: 0.0282 - accuracy: 0.9913 - val_loss: 0.1727 - val_accuracy: 0.9403\n",
            "Epoch 14/50\n",
            "26/26 [==============================] - ETA: 0s - loss: 0.0141 - accuracy: 0.9988\n",
            "Epoch 14: val_accuracy did not improve from 0.94030\n",
            "26/26 [==============================] - 189s 7s/step - loss: 0.0141 - accuracy: 0.9988 - val_loss: 0.2823 - val_accuracy: 0.9104\n",
            "Epoch 15/50\n",
            "26/26 [==============================] - ETA: 0s - loss: 0.0046 - accuracy: 1.0000\n",
            "Epoch 15: val_accuracy did not improve from 0.94030\n",
            "26/26 [==============================] - 179s 7s/step - loss: 0.0046 - accuracy: 1.0000 - val_loss: 0.5746 - val_accuracy: 0.8259\n",
            "Epoch 16/50\n",
            "26/26 [==============================] - ETA: 0s - loss: 0.0973 - accuracy: 0.9603\n",
            "Epoch 16: val_accuracy did not improve from 0.94030\n",
            "26/26 [==============================] - 179s 7s/step - loss: 0.0973 - accuracy: 0.9603 - val_loss: 0.4409 - val_accuracy: 0.8756\n",
            "Epoch 17/50\n",
            "26/26 [==============================] - ETA: 0s - loss: 0.0140 - accuracy: 0.9975\n",
            "Epoch 17: val_accuracy did not improve from 0.94030\n",
            "26/26 [==============================] - 187s 7s/step - loss: 0.0140 - accuracy: 0.9975 - val_loss: 0.6440 - val_accuracy: 0.8607\n",
            "Epoch 18/50\n",
            "15/26 [================>.............] - ETA: 1:09 - loss: 0.0064 - accuracy: 0.9979"
          ]
        }
      ],
      "source": [
        "#based of https://www.tensorflow.org/tutorials/load_data/images\n",
        "num_classes = 2\n",
        "\n",
        "model = tf.keras.Sequential([\n",
        "  tf.keras.layers.Rescaling(1./255),\n",
        "  tf.keras.layers.Conv2D(32, 3, input_shape=(32, 400, 400, 3), activation='relu'),\n",
        "  tf.keras.layers.MaxPooling2D(),\n",
        "  tf.keras.layers.Conv2D(32, 3, activation='relu'),\n",
        "  tf.keras.layers.MaxPooling2D(),\n",
        "  tf.keras.layers.Conv2D(32, 3, activation='relu'),\n",
        "  tf.keras.layers.MaxPooling2D(),\n",
        "  tf.keras.layers.Flatten(),\n",
        "  tf.keras.layers.Dense(128, activation='relu'),\n",
        "  tf.keras.layers.Dense(num_classes)\n",
        "])\n",
        "\n",
        "model.compile(\n",
        "  optimizer='adam',\n",
        "  loss=tf.losses.SparseCategoricalCrossentropy(from_logits=True),\n",
        "  metrics=['accuracy'])\n",
        "\n",
        "checkpoint = my_utils.generate_callback(\"/content/drive/MyDrive/fabric_classification/\", \"Model-2a-NoAug-fs\")\n",
        "\n",
        "hist = model.fit(\n",
        "    train_ds,\n",
        "    validation_data = val_ds,\n",
        "    epochs = 50,\n",
        "    verbose = 1,\n",
        "    callbacks = [checkpoint])\n",
        "\n",
        "model.summary()"
      ]
    },
    {
      "cell_type": "code",
      "execution_count": null,
      "metadata": {
        "id": "5bSj9-Cvrzek"
      },
      "outputs": [],
      "source": [
        "my_utils.generate_plot(hist)"
      ]
    },
    {
      "cell_type": "code",
      "execution_count": null,
      "metadata": {
        "id": "0hWnRGLhr4SJ"
      },
      "outputs": [],
      "source": [
        "\n",
        "sunflower_path = \"/content/drive/MyDrive/im_1.png\"\n",
        "\n",
        "img = tf.keras.utils.load_img(\n",
        "    sunflower_path, target_size=(img_height, img_width)\n",
        ")\n",
        "img_array = tf.keras.utils.img_to_array(img)\n",
        "img_array = tf.expand_dims(img_array, 0) # Create a batch\n",
        "\n",
        "predictions = model.predict(img_array)\n",
        "score = tf.nn.softmax(predictions[0])\n",
        "\n",
        "print(\n",
        "    \"This image most likely belongs to {} with a {:.2f} percent confidence.\"\n",
        "    .format(class_names[np.argmax(score)], 100 * np.max(score))\n",
        ")"
      ]
    },
    {
      "cell_type": "code",
      "execution_count": null,
      "metadata": {
        "id": "1Ket1AZAtOKq"
      },
      "outputs": [],
      "source": [
        "\n",
        "sunflower_path = \"/content/drive/MyDrive/blue-denim-fabric.jpg\"\n",
        "\n",
        "img = tf.keras.utils.load_img(\n",
        "    sunflower_path, target_size=(img_height, img_width)\n",
        ")\n",
        "img_array = tf.keras.utils.img_to_array(img)\n",
        "img_array = tf.expand_dims(img_array, 0) # Create a batch\n",
        "\n",
        "predictions = model.predict(img_array)\n",
        "score = tf.nn.softmax(predictions[0])\n",
        "\n",
        "print(\n",
        "    \"This image most likely belongs to {} with a {:.2f} percent confidence.\"\n",
        "    .format(class_names[np.argmax(score)], 100 * np.max(score))\n",
        ")"
      ]
    }
  ],
  "metadata": {
    "accelerator": "GPU",
    "colab": {
      "gpuType": "T4",
      "provenance": [],
      "include_colab_link": true
    },
    "kernelspec": {
      "display_name": "Python 3",
      "name": "python3"
    },
    "language_info": {
      "name": "python",
      "version": "3.12.0"
    }
  },
  "nbformat": 4,
  "nbformat_minor": 0
}
